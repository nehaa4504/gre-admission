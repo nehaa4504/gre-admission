{
 "cells": [
  {
   "cell_type": "code",
   "execution_count": 1,
   "metadata": {
    "id": "ko8n0d7sm0BX"
   },
   "outputs": [],
   "source": [
    "import pandas as pd\n",
    "import numpy as np\n",
    "from sklearn.model_selection import train_test_split\n",
    "from sklearn.preprocessing import StandardScaler\n",
    "from sklearn.linear_model import LinearRegression\n",
    "from sklearn.ensemble import RandomForestRegressor\n",
    "from sklearn.metrics import mean_squared_error, r2_score\n",
    "from tensorflow.keras.models import Sequential\n",
    "from tensorflow.keras.layers import Dense, Dropout, Input\n",
    "from tensorflow.keras.callbacks import EarlyStopping\n",
    "import matplotlib.pyplot as plt\n",
    "import seaborn as sns\n",
    "\n",
    "# Set random seed\n",
    "np.random.seed(42)"
   ]
  },
  {
   "cell_type": "code",
   "execution_count": 3,
   "metadata": {
    "colab": {
     "base_uri": "https://localhost:8080/",
     "height": 206
    },
    "id": "ZBEvDqWmnCs4",
    "outputId": "493aff69-ea38-424f-cc49-cca8a5162083"
   },
   "outputs": [
    {
     "data": {
      "text/html": [
       "<div>\n",
       "<style scoped>\n",
       "    .dataframe tbody tr th:only-of-type {\n",
       "        vertical-align: middle;\n",
       "    }\n",
       "\n",
       "    .dataframe tbody tr th {\n",
       "        vertical-align: top;\n",
       "    }\n",
       "\n",
       "    .dataframe thead th {\n",
       "        text-align: right;\n",
       "    }\n",
       "</style>\n",
       "<table border=\"1\" class=\"dataframe\">\n",
       "  <thead>\n",
       "    <tr style=\"text-align: right;\">\n",
       "      <th></th>\n",
       "      <th>Serial No.</th>\n",
       "      <th>GRE Score</th>\n",
       "      <th>TOEFL Score</th>\n",
       "      <th>University Rating</th>\n",
       "      <th>SOP</th>\n",
       "      <th>LOR</th>\n",
       "      <th>CGPA</th>\n",
       "      <th>Research</th>\n",
       "      <th>Chance of Admit</th>\n",
       "    </tr>\n",
       "  </thead>\n",
       "  <tbody>\n",
       "    <tr>\n",
       "      <th>0</th>\n",
       "      <td>1</td>\n",
       "      <td>337</td>\n",
       "      <td>118</td>\n",
       "      <td>4</td>\n",
       "      <td>4.5</td>\n",
       "      <td>4.5</td>\n",
       "      <td>9.65</td>\n",
       "      <td>1</td>\n",
       "      <td>0.92</td>\n",
       "    </tr>\n",
       "    <tr>\n",
       "      <th>1</th>\n",
       "      <td>2</td>\n",
       "      <td>324</td>\n",
       "      <td>107</td>\n",
       "      <td>4</td>\n",
       "      <td>4.0</td>\n",
       "      <td>4.5</td>\n",
       "      <td>8.87</td>\n",
       "      <td>1</td>\n",
       "      <td>0.76</td>\n",
       "    </tr>\n",
       "    <tr>\n",
       "      <th>2</th>\n",
       "      <td>3</td>\n",
       "      <td>316</td>\n",
       "      <td>104</td>\n",
       "      <td>3</td>\n",
       "      <td>3.0</td>\n",
       "      <td>3.5</td>\n",
       "      <td>8.00</td>\n",
       "      <td>1</td>\n",
       "      <td>0.72</td>\n",
       "    </tr>\n",
       "    <tr>\n",
       "      <th>3</th>\n",
       "      <td>4</td>\n",
       "      <td>322</td>\n",
       "      <td>110</td>\n",
       "      <td>3</td>\n",
       "      <td>3.5</td>\n",
       "      <td>2.5</td>\n",
       "      <td>8.67</td>\n",
       "      <td>1</td>\n",
       "      <td>0.80</td>\n",
       "    </tr>\n",
       "    <tr>\n",
       "      <th>4</th>\n",
       "      <td>5</td>\n",
       "      <td>314</td>\n",
       "      <td>103</td>\n",
       "      <td>2</td>\n",
       "      <td>2.0</td>\n",
       "      <td>3.0</td>\n",
       "      <td>8.21</td>\n",
       "      <td>0</td>\n",
       "      <td>0.65</td>\n",
       "    </tr>\n",
       "  </tbody>\n",
       "</table>\n",
       "</div>"
      ],
      "text/plain": [
       "   Serial No.  GRE Score  TOEFL Score  University Rating  SOP  LOR   CGPA  \\\n",
       "0           1        337          118                  4  4.5   4.5  9.65   \n",
       "1           2        324          107                  4  4.0   4.5  8.87   \n",
       "2           3        316          104                  3  3.0   3.5  8.00   \n",
       "3           4        322          110                  3  3.5   2.5  8.67   \n",
       "4           5        314          103                  2  2.0   3.0  8.21   \n",
       "\n",
       "   Research  Chance of Admit   \n",
       "0         1              0.92  \n",
       "1         1              0.76  \n",
       "2         1              0.72  \n",
       "3         1              0.80  \n",
       "4         0              0.65  "
      ]
     },
     "execution_count": 3,
     "metadata": {},
     "output_type": "execute_result"
    }
   ],
   "source": [
    "import pandas as pd\n",
    "# Load dataset\n",
    "df = pd.read_csv('C:\\\\Users\\\\DELL\\\\Downloads\\\\project admission\\\\Admission_Predict_Ver1.1.csv')\n",
    "df.head()"
   ]
  },
  {
   "cell_type": "code",
   "execution_count": 4,
   "metadata": {
    "id": "tuSBW2WnbXAJ"
   },
   "outputs": [],
   "source": [
    "df.columns = df.columns.str.strip()\n",
    "df.rename(columns={'LOR': 'LOR'}, inplace=True)"
   ]
  },
  {
   "cell_type": "code",
   "execution_count": 5,
   "metadata": {
    "colab": {
     "base_uri": "https://localhost:8080/"
    },
    "id": "BAFPQpHoor2b",
    "outputId": "71cfb6ec-42fd-42ff-abda-8626aad76dfa"
   },
   "outputs": [
    {
     "data": {
      "text/plain": [
       "Index(['Serial No.', 'GRE Score', 'TOEFL Score', 'University Rating', 'SOP',\n",
       "       'LOR', 'CGPA', 'Research', 'Chance of Admit'],\n",
       "      dtype='object')"
      ]
     },
     "execution_count": 5,
     "metadata": {},
     "output_type": "execute_result"
    }
   ],
   "source": [
    "df.columns"
   ]
  },
  {
   "cell_type": "code",
   "execution_count": 6,
   "metadata": {
    "colab": {
     "base_uri": "https://localhost:8080/"
    },
    "id": "--fJMEsepB5-",
    "outputId": "8e8c96b6-bf00-47cf-a634-5bffede66858"
   },
   "outputs": [
    {
     "name": "stdout",
     "output_type": "stream",
     "text": [
      "<class 'pandas.core.frame.DataFrame'>\n",
      "RangeIndex: 500 entries, 0 to 499\n",
      "Data columns (total 9 columns):\n",
      " #   Column             Non-Null Count  Dtype  \n",
      "---  ------             --------------  -----  \n",
      " 0   Serial No.         500 non-null    int64  \n",
      " 1   GRE Score          500 non-null    int64  \n",
      " 2   TOEFL Score        500 non-null    int64  \n",
      " 3   University Rating  500 non-null    int64  \n",
      " 4   SOP                500 non-null    float64\n",
      " 5   LOR                500 non-null    float64\n",
      " 6   CGPA               500 non-null    float64\n",
      " 7   Research           500 non-null    int64  \n",
      " 8   Chance of Admit    500 non-null    float64\n",
      "dtypes: float64(4), int64(5)\n",
      "memory usage: 35.3 KB\n",
      "None\n"
     ]
    }
   ],
   "source": [
    "print(df.info())"
   ]
  },
  {
   "cell_type": "code",
   "execution_count": 7,
   "metadata": {
    "colab": {
     "base_uri": "https://localhost:8080/"
    },
    "id": "llrcZGeTpFva",
    "outputId": "4e74f104-4de2-4fbc-cb76-1cec1fab53d1"
   },
   "outputs": [
    {
     "name": "stdout",
     "output_type": "stream",
     "text": [
      "Serial No.           0\n",
      "GRE Score            0\n",
      "TOEFL Score          0\n",
      "University Rating    0\n",
      "SOP                  0\n",
      "LOR                  0\n",
      "CGPA                 0\n",
      "Research             0\n",
      "Chance of Admit      0\n",
      "dtype: int64\n"
     ]
    }
   ],
   "source": [
    "# Check for missing values\n",
    "print(df.isnull().sum())"
   ]
  },
  {
   "cell_type": "code",
   "execution_count": 8,
   "metadata": {
    "id": "R6_NdVaqpJam"
   },
   "outputs": [],
   "source": [
    "# Drop missing values\n",
    "df = df.dropna()"
   ]
  },
  {
   "cell_type": "code",
   "execution_count": 9,
   "metadata": {
    "colab": {
     "base_uri": "https://localhost:8080/",
     "height": 206
    },
    "id": "1JSqaQTepLR0",
    "outputId": "f178ebb0-7eb0-4c80-8f35-2673f5681318"
   },
   "outputs": [
    {
     "data": {
      "text/html": [
       "<div>\n",
       "<style scoped>\n",
       "    .dataframe tbody tr th:only-of-type {\n",
       "        vertical-align: middle;\n",
       "    }\n",
       "\n",
       "    .dataframe tbody tr th {\n",
       "        vertical-align: top;\n",
       "    }\n",
       "\n",
       "    .dataframe thead th {\n",
       "        text-align: right;\n",
       "    }\n",
       "</style>\n",
       "<table border=\"1\" class=\"dataframe\">\n",
       "  <thead>\n",
       "    <tr style=\"text-align: right;\">\n",
       "      <th></th>\n",
       "      <th>Serial No.</th>\n",
       "      <th>GRE Score</th>\n",
       "      <th>TOEFL Score</th>\n",
       "      <th>University Rating</th>\n",
       "      <th>SOP</th>\n",
       "      <th>LOR</th>\n",
       "      <th>CGPA</th>\n",
       "      <th>Research</th>\n",
       "      <th>Chance of Admit</th>\n",
       "    </tr>\n",
       "  </thead>\n",
       "  <tbody>\n",
       "    <tr>\n",
       "      <th>0</th>\n",
       "      <td>1</td>\n",
       "      <td>0.94</td>\n",
       "      <td>0.928571</td>\n",
       "      <td>4</td>\n",
       "      <td>4.5</td>\n",
       "      <td>4.5</td>\n",
       "      <td>0.913462</td>\n",
       "      <td>1</td>\n",
       "      <td>0.92</td>\n",
       "    </tr>\n",
       "    <tr>\n",
       "      <th>1</th>\n",
       "      <td>2</td>\n",
       "      <td>0.68</td>\n",
       "      <td>0.535714</td>\n",
       "      <td>4</td>\n",
       "      <td>4.0</td>\n",
       "      <td>4.5</td>\n",
       "      <td>0.663462</td>\n",
       "      <td>1</td>\n",
       "      <td>0.76</td>\n",
       "    </tr>\n",
       "    <tr>\n",
       "      <th>2</th>\n",
       "      <td>3</td>\n",
       "      <td>0.52</td>\n",
       "      <td>0.428571</td>\n",
       "      <td>3</td>\n",
       "      <td>3.0</td>\n",
       "      <td>3.5</td>\n",
       "      <td>0.384615</td>\n",
       "      <td>1</td>\n",
       "      <td>0.72</td>\n",
       "    </tr>\n",
       "    <tr>\n",
       "      <th>3</th>\n",
       "      <td>4</td>\n",
       "      <td>0.64</td>\n",
       "      <td>0.642857</td>\n",
       "      <td>3</td>\n",
       "      <td>3.5</td>\n",
       "      <td>2.5</td>\n",
       "      <td>0.599359</td>\n",
       "      <td>1</td>\n",
       "      <td>0.80</td>\n",
       "    </tr>\n",
       "    <tr>\n",
       "      <th>4</th>\n",
       "      <td>5</td>\n",
       "      <td>0.48</td>\n",
       "      <td>0.392857</td>\n",
       "      <td>2</td>\n",
       "      <td>2.0</td>\n",
       "      <td>3.0</td>\n",
       "      <td>0.451923</td>\n",
       "      <td>0</td>\n",
       "      <td>0.65</td>\n",
       "    </tr>\n",
       "  </tbody>\n",
       "</table>\n",
       "</div>"
      ],
      "text/plain": [
       "   Serial No.  GRE Score  TOEFL Score  University Rating  SOP  LOR      CGPA  \\\n",
       "0           1       0.94     0.928571                  4  4.5  4.5  0.913462   \n",
       "1           2       0.68     0.535714                  4  4.0  4.5  0.663462   \n",
       "2           3       0.52     0.428571                  3  3.0  3.5  0.384615   \n",
       "3           4       0.64     0.642857                  3  3.5  2.5  0.599359   \n",
       "4           5       0.48     0.392857                  2  2.0  3.0  0.451923   \n",
       "\n",
       "   Research  Chance of Admit  \n",
       "0         1             0.92  \n",
       "1         1             0.76  \n",
       "2         1             0.72  \n",
       "3         1             0.80  \n",
       "4         0             0.65  "
      ]
     },
     "execution_count": 9,
     "metadata": {},
     "output_type": "execute_result"
    }
   ],
   "source": [
    "from sklearn.preprocessing import MinMaxScaler\n",
    "scaler = MinMaxScaler()\n",
    "df[['GRE Score', 'TOEFL Score', 'CGPA']] = scaler.fit_transform(df[['GRE Score', 'TOEFL Score', 'CGPA']])\n",
    "df.head()"
   ]
  },
  {
   "cell_type": "code",
   "execution_count": 10,
   "metadata": {
    "colab": {
     "base_uri": "https://localhost:8080/",
     "height": 650
    },
    "id": "wf4-aTM1pNkd",
    "outputId": "dc54eb45-17e1-4780-80a6-fb74849eb895"
   },
   "outputs": [
    {
     "data": {
      "image/png": "[encoded data removed]",
      "text/plain": [
       "<Figure size 1000x600 with 2 Axes>"
      ]
     },
     "metadata": {},
     "output_type": "display_data"
    }
   ],
   "source": [
    "import seaborn as sns\n",
    "import matplotlib.pyplot as plt\n",
    "# Correlation heatmap\n",
    "plt.figure(figsize=(10, 6))\n",
    "sns.heatmap(df.corr(), annot=True, cmap='coolwarm')\n",
    "plt.title('Feature Correlation')\n",
    "plt.show()"
   ]
  },
  {
   "cell_type": "code",
   "execution_count": 11,
   "metadata": {
    "id": "UknM758VpPoA"
   },
   "outputs": [],
   "source": [
    "# Define features (X) and target (y)\n",
    "X = df.drop(columns=['Serial No.', 'Chance of Admit'], errors='ignore')\n",
    "y = df['Chance of Admit']"
   ]
  },
  {
   "cell_type": "code",
   "execution_count": 12,
   "metadata": {
    "id": "FlnUfCaxpkXV"
   },
   "outputs": [],
   "source": [
    "# Split data into training and testing sets\n",
    "X_train, X_test, y_train, y_test = train_test_split(X, y, test_size=0.2, random_state=42)"
   ]
  },
  {
   "cell_type": "code",
   "execution_count": 13,
   "metadata": {
    "id": "baWzUJ64ptb1"
   },
   "outputs": [],
   "source": [
    "# Scale features\n",
    "scaler = StandardScaler()\n",
    "X_train_scaled = scaler.fit_transform(X_train)\n",
    "X_test_scaled = scaler.transform(X_test)"
   ]
  },
  {
   "cell_type": "code",
   "execution_count": 14,
   "metadata": {
    "colab": {
     "base_uri": "https://localhost:8080/"
    },
    "id": "2jMueP3OpvOq",
    "outputId": "86d816cd-369c-418b-fa0d-ce9dc3c455f5"
   },
   "outputs": [
    {
     "name": "stdout",
     "output_type": "stream",
     "text": [
      "Training shape: (400, 7)\n",
      "Testing shape: (100, 7)\n"
     ]
    }
   ],
   "source": [
    "# Print shapes\n",
    "print(f\"Training shape: {X_train_scaled.shape}\")\n",
    "print(f\"Testing shape: {X_test_scaled.shape}\")"
   ]
  },
  {
   "cell_type": "code",
   "execution_count": 15,
   "metadata": {
    "colab": {
     "base_uri": "https://localhost:8080/"
    },
    "id": "yTMNNFKcpxgS",
    "outputId": "03bb9243-b3a6-4e91-c2f1-5eb5d595f643"
   },
   "outputs": [
    {
     "name": "stdout",
     "output_type": "stream",
     "text": [
      "Linear Regression Results:\n",
      "Mean Squared Error (MSE): 0.0037\n",
      "R² Score: 0.8188\n"
     ]
    }
   ],
   "source": [
    "# Train Linear Regression model\n",
    "lr_model = LinearRegression()\n",
    "lr_model.fit(X_train_scaled, y_train)\n",
    "# Predict on test set\n",
    "y_pred_lr = lr_model.predict(X_test_scaled)\n",
    "# Evaluate\n",
    "mse_lr = mean_squared_error(y_test, y_pred_lr)\n",
    "r2_lr = r2_score(y_test, y_pred_lr)\n",
    "print(\"Linear Regression Results:\")\n",
    "print(f\"Mean Squared Error (MSE): {round(mse_lr, 4)}\")\n",
    "print(f\"R² Score: {round(r2_lr, 4)}\")"
   ]
  },
  {
   "cell_type": "code",
   "execution_count": 16,
   "metadata": {
    "colab": {
     "base_uri": "https://localhost:8080/"
    },
    "id": "3x-SNMUrp0bj",
    "outputId": "daf3c427-6d0b-45d0-9afb-7490275e66e8"
   },
   "outputs": [
    {
     "name": "stdout",
     "output_type": "stream",
     "text": [
      "Random Forest Results:\n",
      "Mean Squared Error (MSE): 0.0043\n",
      "R² Score: 0.7887\n"
     ]
    }
   ],
   "source": [
    "# Train Random Forest model\n",
    "rf_model = RandomForestRegressor(random_state=42)\n",
    "rf_model.fit(X_train_scaled, y_train)\n",
    "# Predict on test set\n",
    "y_pred_rf = rf_model.predict(X_test_scaled)\n",
    "# Evaluate\n",
    "mse_rf = mean_squared_error(y_test, y_pred_rf)\n",
    "r2_rf = r2_score(y_test, y_pred_rf)\n",
    "print(\"Random Forest Results:\")\n",
    "print(f\"Mean Squared Error (MSE): {round(mse_rf, 4)}\")\n",
    "print(f\"R² Score: {round(r2_rf, 4)}\")"
   ]
  },
  {
   "cell_type": "code",
   "execution_count": 17,
   "metadata": {
    "colab": {
     "base_uri": "https://localhost:8080/"
    },
    "id": "F1-Y34ILp2sP",
    "outputId": "02dd3d30-0593-40a1-dabb-1f77850be0dc"
   },
   "outputs": [
    {
     "name": "stdout",
     "output_type": "stream",
     "text": [
      "4/4 [==============================] - 0s 6ms/step\n",
      "Regularized ANN Results:\n",
      "Mean Squared Error (MSE): 0.0044\n",
      "R² Score: 0.7869\n"
     ]
    }
   ],
   "source": [
    "# Build ANN model\n",
    "ann_model = Sequential([\n",
    "    Input(shape=(X_train_scaled.shape[1],)),\n",
    "    Dense(64, activation='relu'),\n",
    "    Dropout(0.1),\n",
    "    Dense(32, activation='relu'),\n",
    "    Dense(1, activation='linear')\n",
    "])\n",
    "# Compile model\n",
    "ann_model.compile(optimizer='adam', loss='mean_squared_error')\n",
    "# Add early stopping\n",
    "early_stop = EarlyStopping(monitor='loss', patience=10, restore_best_weights=True)\n",
    "# Train model\n",
    "ann_model.fit(X_train_scaled, y_train, epochs=100, batch_size=10, verbose=0, callbacks=[early_stop])\n",
    "# Predict on test set\n",
    "y_pred_ann = ann_model.predict(X_test_scaled).flatten()\n",
    "# Evaluate\n",
    "mse_ann = mean_squared_error(y_test, y_pred_ann)\n",
    "r2_ann = r2_score(y_test, y_pred_ann)\n",
    "print(\"Regularized ANN Results:\")\n",
    "print(f\"Mean Squared Error (MSE): {round(mse_ann, 4)}\")\n",
    "print(f\"R² Score: {round(r2_ann, 4)}\")"
   ]
  },
  {
   "cell_type": "code",
   "execution_count": 26,
   "metadata": {
    "scrolled": true
   },
   "outputs": [
    {
     "name": "stdout",
     "output_type": "stream",
     "text": [
      "Collecting xgboost\n",
      "  Downloading xgboost-3.0.2-py3-none-win_amd64.whl.metadata (2.1 kB)\n",
      "Requirement already satisfied: numpy in c:\\users\\dell\\anaconda3\\lib\\site-packages (from xgboost) (1.26.4)\n",
      "Requirement already satisfied: scipy in c:\\users\\dell\\anaconda3\\lib\\site-packages (from xgboost) (1.13.1)\n",
      "Downloading xgboost-3.0.2-py3-none-win_amd64.whl (150.0 MB)\n",
      "   ---------------------------------------- 0.0/150.0 MB ? eta -:--:--\n",
      "   ---------------------------------------- 0.4/150.0 MB 11.6 MB/s eta 0:00:13\n",
      "   ---------------------------------------- 1.4/150.0 MB 17.6 MB/s eta 0:00:09\n",
      "    --------------------------------------- 2.8/150.0 MB 20.0 MB/s eta 0:00:08\n",
      "    --------------------------------------- 3.7/150.0 MB 19.8 MB/s eta 0:00:08\n",
      "   - -------------------------------------- 4.5/150.0 MB 19.0 MB/s eta 0:00:08\n",
      "   - -------------------------------------- 4.5/150.0 MB 19.1 MB/s eta 0:00:08\n",
      "   - -------------------------------------- 4.6/150.0 MB 13.9 MB/s eta 0:00:11\n",
      "   - -------------------------------------- 5.5/150.0 MB 14.6 MB/s eta 0:00:10\n",
      "   - -------------------------------------- 6.3/150.0 MB 15.0 MB/s eta 0:00:10\n",
      "   - -------------------------------------- 7.2/150.0 MB 15.3 MB/s eta 0:00:10\n",
      "   -- ------------------------------------- 8.0/150.0 MB 15.5 MB/s eta 0:00:10\n",
      "   -- ------------------------------------- 8.6/150.0 MB 14.8 MB/s eta 0:00:10\n",
      "   -- ------------------------------------- 9.7/150.0 MB 15.9 MB/s eta 0:00:09\n",
      "   -- ------------------------------------- 10.9/150.0 MB 17.2 MB/s eta 0:00:09\n",
      "   --- ------------------------------------ 11.9/150.0 MB 17.2 MB/s eta 0:00:09\n",
      "   --- ------------------------------------ 12.5/150.0 MB 16.4 MB/s eta 0:00:09\n",
      "   --- ------------------------------------ 12.7/150.0 MB 16.0 MB/s eta 0:00:09\n",
      "   --- ------------------------------------ 14.2/150.0 MB 15.6 MB/s eta 0:00:09\n",
      "   --- ------------------------------------ 14.6/150.0 MB 14.6 MB/s eta 0:00:10\n",
      "   --- ------------------------------------ 14.6/150.0 MB 14.6 MB/s eta 0:00:10\n",
      "   --- ------------------------------------ 14.7/150.0 MB 13.9 MB/s eta 0:00:10\n",
      "   ---- ----------------------------------- 16.0/150.0 MB 14.6 MB/s eta 0:00:10\n",
      "   ---- ----------------------------------- 16.5/150.0 MB 14.2 MB/s eta 0:00:10\n",
      "   ---- ----------------------------------- 17.2/150.0 MB 13.9 MB/s eta 0:00:10\n",
      "   ---- ----------------------------------- 17.9/150.0 MB 13.9 MB/s eta 0:00:10\n",
      "   ---- ----------------------------------- 18.7/150.0 MB 14.2 MB/s eta 0:00:10\n",
      "   ----- ---------------------------------- 19.6/150.0 MB 14.2 MB/s eta 0:00:10\n",
      "   ----- ---------------------------------- 20.1/150.0 MB 13.6 MB/s eta 0:00:10\n",
      "   ----- ---------------------------------- 20.8/150.0 MB 13.1 MB/s eta 0:00:10\n",
      "   ----- ---------------------------------- 21.5/150.0 MB 12.8 MB/s eta 0:00:11\n",
      "   ----- ---------------------------------- 22.2/150.0 MB 12.6 MB/s eta 0:00:11\n",
      "   ------ --------------------------------- 22.6/150.0 MB 12.1 MB/s eta 0:00:11\n",
      "   ------ --------------------------------- 23.1/150.0 MB 12.4 MB/s eta 0:00:11\n",
      "   ------ --------------------------------- 24.8/150.0 MB 13.4 MB/s eta 0:00:10\n",
      "   ------ --------------------------------- 25.6/150.0 MB 15.2 MB/s eta 0:00:09\n",
      "   ------- -------------------------------- 26.8/150.0 MB 16.0 MB/s eta 0:00:08\n",
      "   ------- -------------------------------- 27.4/150.0 MB 16.0 MB/s eta 0:00:08\n",
      "   ------- -------------------------------- 28.2/150.0 MB 15.6 MB/s eta 0:00:08\n",
      "   ------- -------------------------------- 29.1/150.0 MB 15.6 MB/s eta 0:00:08\n",
      "   -------- ------------------------------- 30.2/150.0 MB 15.6 MB/s eta 0:00:08\n",
      "   -------- ------------------------------- 30.9/150.0 MB 16.0 MB/s eta 0:00:08\n",
      "   -------- ------------------------------- 31.7/150.0 MB 16.4 MB/s eta 0:00:08\n",
      "   -------- ------------------------------- 32.8/150.0 MB 17.2 MB/s eta 0:00:07\n",
      "   -------- ------------------------------- 33.6/150.0 MB 18.7 MB/s eta 0:00:07\n",
      "   --------- ------------------------------ 34.2/150.0 MB 17.2 MB/s eta 0:00:07\n",
      "   --------- ------------------------------ 35.3/150.0 MB 17.3 MB/s eta 0:00:07\n",
      "   --------- ------------------------------ 35.8/150.0 MB 16.4 MB/s eta 0:00:07\n",
      "   --------- ------------------------------ 36.9/150.0 MB 16.0 MB/s eta 0:00:08\n",
      "   ---------- ----------------------------- 37.6/150.0 MB 16.0 MB/s eta 0:00:08\n",
      "   ---------- ----------------------------- 38.3/150.0 MB 16.0 MB/s eta 0:00:07\n",
      "   ---------- ----------------------------- 38.7/150.0 MB 16.8 MB/s eta 0:00:07\n",
      "   ---------- ----------------------------- 39.8/150.0 MB 16.8 MB/s eta 0:00:07\n",
      "   ---------- ----------------------------- 40.5/150.0 MB 16.0 MB/s eta 0:00:07\n",
      "   ---------- ----------------------------- 41.2/150.0 MB 16.4 MB/s eta 0:00:07\n",
      "   ----------- ---------------------------- 41.9/150.0 MB 16.0 MB/s eta 0:00:07\n",
      "   ----------- ---------------------------- 42.4/150.0 MB 15.2 MB/s eta 0:00:08\n",
      "   ----------- ---------------------------- 43.1/150.0 MB 15.2 MB/s eta 0:00:08\n",
      "   ----------- ---------------------------- 43.5/150.0 MB 14.6 MB/s eta 0:00:08\n",
      "   ----------- ---------------------------- 44.0/150.0 MB 14.2 MB/s eta 0:00:08\n",
      "   ----------- ---------------------------- 44.5/150.0 MB 14.2 MB/s eta 0:00:08\n",
      "   ----------- ---------------------------- 44.9/150.0 MB 14.2 MB/s eta 0:00:08\n",
      "   ------------ --------------------------- 45.6/150.0 MB 13.4 MB/s eta 0:00:08\n",
      "   ------------ --------------------------- 47.2/150.0 MB 13.9 MB/s eta 0:00:08\n",
      "   ------------ --------------------------- 48.3/150.0 MB 14.2 MB/s eta 0:00:08\n",
      "   ------------- -------------------------- 49.1/150.0 MB 14.6 MB/s eta 0:00:07\n",
      "   ------------- -------------------------- 49.8/150.0 MB 14.6 MB/s eta 0:00:07\n",
      "   ------------- -------------------------- 50.4/150.0 MB 14.2 MB/s eta 0:00:07\n",
      "   ------------- -------------------------- 51.6/150.0 MB 14.6 MB/s eta 0:00:07\n",
      "   -------------- ------------------------- 52.9/150.0 MB 15.6 MB/s eta 0:00:07\n",
      "   -------------- ------------------------- 53.7/150.0 MB 16.8 MB/s eta 0:00:06\n",
      "   -------------- ------------------------- 54.4/150.0 MB 16.8 MB/s eta 0:00:06\n",
      "   -------------- ------------------------- 54.9/150.0 MB 17.2 MB/s eta 0:00:06\n",
      "   -------------- ------------------------- 55.8/150.0 MB 18.2 MB/s eta 0:00:06\n",
      "   --------------- ------------------------ 56.7/150.0 MB 17.7 MB/s eta 0:00:06\n",
      "   --------------- ------------------------ 57.9/150.0 MB 18.2 MB/s eta 0:00:06\n",
      "   --------------- ------------------------ 58.6/150.0 MB 17.7 MB/s eta 0:00:06\n",
      "   --------------- ------------------------ 59.0/150.0 MB 17.7 MB/s eta 0:00:06\n",
      "   ---------------- ----------------------- 60.1/150.0 MB 18.2 MB/s eta 0:00:05\n",
      "   ---------------- ----------------------- 60.8/150.0 MB 18.2 MB/s eta 0:00:05\n",
      "   ---------------- ----------------------- 61.3/150.0 MB 17.2 MB/s eta 0:00:06\n",
      "   ---------------- ----------------------- 61.3/150.0 MB 16.8 MB/s eta 0:00:06\n",
      "   ---------------- ----------------------- 61.6/150.0 MB 15.2 MB/s eta 0:00:06\n",
      "   ---------------- ----------------------- 62.5/150.0 MB 14.9 MB/s eta 0:00:06\n",
      "   ---------------- ----------------------- 63.2/150.0 MB 14.6 MB/s eta 0:00:06\n",
      "   ----------------- ---------------------- 64.0/150.0 MB 14.5 MB/s eta 0:00:06\n",
      "   ----------------- ---------------------- 64.6/150.0 MB 14.9 MB/s eta 0:00:06\n",
      "   ----------------- ---------------------- 64.8/150.0 MB 14.6 MB/s eta 0:00:06\n",
      "   ----------------- ---------------------- 65.3/150.0 MB 13.6 MB/s eta 0:00:07\n",
      "   ----------------- ---------------------- 66.2/150.0 MB 13.4 MB/s eta 0:00:07\n",
      "   ----------------- ---------------------- 67.2/150.0 MB 13.4 MB/s eta 0:00:07\n",
      "   ------------------ --------------------- 68.0/150.0 MB 12.8 MB/s eta 0:00:07\n",
      "   ------------------ --------------------- 68.7/150.0 MB 12.8 MB/s eta 0:00:07\n",
      "   ------------------ --------------------- 69.5/150.0 MB 13.4 MB/s eta 0:00:07\n",
      "   ------------------ --------------------- 70.3/150.0 MB 13.1 MB/s eta 0:00:07\n",
      "   ------------------ --------------------- 71.2/150.0 MB 13.4 MB/s eta 0:00:06\n",
      "   ------------------- -------------------- 72.2/150.0 MB 15.2 MB/s eta 0:00:06\n",
      "   ------------------- -------------------- 73.3/150.0 MB 15.6 MB/s eta 0:00:05\n",
      "   ------------------- -------------------- 74.1/150.0 MB 16.0 MB/s eta 0:00:05\n",
      "   ------------------- -------------------- 74.9/150.0 MB 16.4 MB/s eta 0:00:05\n",
      "   -------------------- ------------------- 75.3/150.0 MB 17.7 MB/s eta 0:00:05\n",
      "   -------------------- ------------------- 75.7/150.0 MB 16.8 MB/s eta 0:00:05\n",
      "   -------------------- ------------------- 77.2/150.0 MB 17.2 MB/s eta 0:00:05\n",
      "   -------------------- ------------------- 78.0/150.0 MB 17.7 MB/s eta 0:00:05\n",
      "   -------------------- ------------------- 78.7/150.0 MB 17.7 MB/s eta 0:00:05\n",
      "   --------------------- ------------------ 79.4/150.0 MB 17.7 MB/s eta 0:00:04\n",
      "   --------------------- ------------------ 80.1/150.0 MB 17.2 MB/s eta 0:00:05\n",
      "   --------------------- ------------------ 80.8/150.0 MB 17.2 MB/s eta 0:00:05\n",
      "   --------------------- ------------------ 81.4/150.0 MB 16.8 MB/s eta 0:00:05\n",
      "   --------------------- ------------------ 82.2/150.0 MB 16.4 MB/s eta 0:00:05\n",
      "   ---------------------- ----------------- 82.6/150.0 MB 15.6 MB/s eta 0:00:05\n",
      "   ---------------------- ----------------- 83.2/150.0 MB 14.6 MB/s eta 0:00:05\n",
      "   ---------------------- ----------------- 83.8/150.0 MB 13.9 MB/s eta 0:00:05\n",
      "   ---------------------- ----------------- 84.1/150.0 MB 13.4 MB/s eta 0:00:05\n",
      "   ---------------------- ----------------- 84.5/150.0 MB 12.8 MB/s eta 0:00:06\n",
      "   ---------------------- ----------------- 85.3/150.0 MB 12.8 MB/s eta 0:00:06\n",
      "   ----------------------- ---------------- 86.7/150.0 MB 13.9 MB/s eta 0:00:05\n",
      "   ----------------------- ---------------- 87.8/150.0 MB 13.4 MB/s eta 0:00:05\n",
      "   ----------------------- ---------------- 89.1/150.0 MB 14.2 MB/s eta 0:00:05\n",
      "   ------------------------ --------------- 90.7/150.0 MB 15.2 MB/s eta 0:00:04\n",
      "   ------------------------ --------------- 91.3/150.0 MB 15.6 MB/s eta 0:00:04\n",
      "   ------------------------ --------------- 91.8/150.0 MB 14.9 MB/s eta 0:00:04\n",
      "   ------------------------ --------------- 92.5/150.0 MB 15.6 MB/s eta 0:00:04\n",
      "   ------------------------- -------------- 93.8/150.0 MB 18.2 MB/s eta 0:00:04\n",
      "   ------------------------- -------------- 93.8/150.0 MB 17.3 MB/s eta 0:00:04\n",
      "   ------------------------- -------------- 94.1/150.0 MB 16.4 MB/s eta 0:00:04\n",
      "   ------------------------- -------------- 94.6/150.0 MB 16.8 MB/s eta 0:00:04\n",
      "   ------------------------- -------------- 95.7/150.0 MB 17.7 MB/s eta 0:00:04\n",
      "   ------------------------- -------------- 96.7/150.0 MB 16.8 MB/s eta 0:00:04\n",
      "   ------------------------- -------------- 97.4/150.0 MB 16.8 MB/s eta 0:00:04\n",
      "   -------------------------- ------------- 98.4/150.0 MB 16.0 MB/s eta 0:00:04\n",
      "   -------------------------- ------------- 99.0/150.0 MB 15.2 MB/s eta 0:00:04\n",
      "   -------------------------- ------------- 99.8/150.0 MB 14.9 MB/s eta 0:00:04\n",
      "   -------------------------- ------------ 100.4/150.0 MB 14.2 MB/s eta 0:00:04\n",
      "   -------------------------- ------------ 101.2/150.0 MB 13.9 MB/s eta 0:00:04\n",
      "   -------------------------- ------------ 102.1/150.0 MB 14.6 MB/s eta 0:00:04\n",
      "   -------------------------- ------------ 102.9/150.0 MB 14.6 MB/s eta 0:00:04\n",
      "   -------------------------- ------------ 103.5/150.0 MB 13.9 MB/s eta 0:00:04\n",
      "   --------------------------- ----------- 104.5/150.0 MB 15.6 MB/s eta 0:00:03\n",
      "   --------------------------- ----------- 105.6/150.0 MB 15.6 MB/s eta 0:00:03\n",
      "   --------------------------- ----------- 106.7/150.0 MB 15.6 MB/s eta 0:00:03\n",
      "   --------------------------- ----------- 107.4/150.0 MB 16.0 MB/s eta 0:00:03\n",
      "   --------------------------- ----------- 107.4/150.0 MB 16.0 MB/s eta 0:00:03\n",
      "   ---------------------------- ---------- 108.2/150.0 MB 14.2 MB/s eta 0:00:03\n",
      "   ---------------------------- ---------- 109.8/150.0 MB 15.2 MB/s eta 0:00:03\n",
      "   ---------------------------- ---------- 110.3/150.0 MB 14.9 MB/s eta 0:00:03\n",
      "   ---------------------------- ---------- 110.9/150.0 MB 15.2 MB/s eta 0:00:03\n",
      "   ----------------------------- --------- 111.7/150.0 MB 15.6 MB/s eta 0:00:03\n",
      "   ----------------------------- --------- 112.0/150.0 MB 14.6 MB/s eta 0:00:03\n",
      "   ----------------------------- --------- 113.1/150.0 MB 14.6 MB/s eta 0:00:03\n",
      "   ----------------------------- --------- 115.0/150.0 MB 16.0 MB/s eta 0:00:03\n",
      "   ------------------------------ -------- 115.7/150.0 MB 15.6 MB/s eta 0:00:03\n",
      "   ------------------------------ -------- 116.4/150.0 MB 16.0 MB/s eta 0:00:03\n",
      "   ------------------------------ -------- 117.2/150.0 MB 15.6 MB/s eta 0:00:03\n",
      "   ------------------------------ -------- 117.8/150.0 MB 17.2 MB/s eta 0:00:02\n",
      "   ------------------------------ -------- 118.6/150.0 MB 17.2 MB/s eta 0:00:02\n",
      "   ------------------------------ -------- 119.1/150.0 MB 16.4 MB/s eta 0:00:02\n",
      "   ------------------------------- ------- 120.0/150.0 MB 16.0 MB/s eta 0:00:02\n",
      "   ------------------------------- ------- 120.7/150.0 MB 16.4 MB/s eta 0:00:02\n",
      "   ------------------------------- ------- 121.4/150.0 MB 16.4 MB/s eta 0:00:02\n",
      "   ------------------------------- ------- 122.2/150.0 MB 16.8 MB/s eta 0:00:02\n",
      "   -------------------------------- ------ 123.1/150.0 MB 17.3 MB/s eta 0:00:02\n",
      "   -------------------------------- ------ 123.8/150.0 MB 16.8 MB/s eta 0:00:02\n",
      "   -------------------------------- ------ 124.7/150.0 MB 15.6 MB/s eta 0:00:02\n",
      "   -------------------------------- ------ 125.6/150.0 MB 15.6 MB/s eta 0:00:02\n",
      "   -------------------------------- ------ 126.0/150.0 MB 15.6 MB/s eta 0:00:02\n",
      "   -------------------------------- ------ 126.5/150.0 MB 15.2 MB/s eta 0:00:02\n",
      "   -------------------------------- ------ 126.8/150.0 MB 14.2 MB/s eta 0:00:02\n",
      "   --------------------------------- ----- 128.2/150.0 MB 15.2 MB/s eta 0:00:02\n",
      "   --------------------------------- ----- 129.1/150.0 MB 14.9 MB/s eta 0:00:02\n",
      "   --------------------------------- ----- 130.1/150.0 MB 15.6 MB/s eta 0:00:02\n",
      "   ---------------------------------- ---- 130.9/150.0 MB 15.2 MB/s eta 0:00:02\n",
      "   ---------------------------------- ---- 131.6/150.0 MB 15.2 MB/s eta 0:00:02\n",
      "   ---------------------------------- ---- 132.4/150.0 MB 15.2 MB/s eta 0:00:02\n",
      "   ---------------------------------- ---- 133.0/150.0 MB 14.9 MB/s eta 0:00:02\n",
      "   ---------------------------------- ---- 134.5/150.0 MB 15.6 MB/s eta 0:00:01\n",
      "   ----------------------------------- --- 135.3/150.0 MB 16.0 MB/s eta 0:00:01\n",
      "   ----------------------------------- --- 136.0/150.0 MB 16.0 MB/s eta 0:00:01\n",
      "   ----------------------------------- --- 136.0/150.0 MB 15.2 MB/s eta 0:00:01\n",
      "   ----------------------------------- --- 136.0/150.0 MB 15.2 MB/s eta 0:00:01\n",
      "   ----------------------------------- --- 136.1/150.0 MB 13.6 MB/s eta 0:00:02\n",
      "   ----------------------------------- --- 136.7/150.0 MB 12.8 MB/s eta 0:00:02\n",
      "   ----------------------------------- --- 136.8/150.0 MB 13.6 MB/s eta 0:00:01\n",
      "   ----------------------------------- --- 137.0/150.0 MB 12.8 MB/s eta 0:00:02\n",
      "   ----------------------------------- --- 138.0/150.0 MB 12.6 MB/s eta 0:00:01\n",
      "   ------------------------------------ -- 138.9/150.0 MB 12.4 MB/s eta 0:00:01\n",
      "   ------------------------------------ -- 139.6/150.0 MB 12.3 MB/s eta 0:00:01\n",
      "   ------------------------------------ -- 140.6/150.0 MB 12.1 MB/s eta 0:00:01\n",
      "   ------------------------------------ -- 141.6/150.0 MB 12.1 MB/s eta 0:00:01\n",
      "   ------------------------------------- - 142.5/150.0 MB 12.1 MB/s eta 0:00:01\n",
      "   ------------------------------------- - 143.2/150.0 MB 11.9 MB/s eta 0:00:01\n",
      "   ------------------------------------- - 144.0/150.0 MB 11.9 MB/s eta 0:00:01\n",
      "   ------------------------------------- - 145.0/150.0 MB 11.7 MB/s eta 0:00:01\n",
      "   ------------------------------------- - 146.0/150.0 MB 11.7 MB/s eta 0:00:01\n",
      "   --------------------------------------  147.3/150.0 MB 16.4 MB/s eta 0:00:01\n",
      "   --------------------------------------  148.3/150.0 MB 17.2 MB/s eta 0:00:01\n",
      "   --------------------------------------  149.6/150.0 MB 18.2 MB/s eta 0:00:01\n",
      "   --------------------------------------  150.0/150.0 MB 18.2 MB/s eta 0:00:01\n",
      "   --------------------------------------  150.0/150.0 MB 18.2 MB/s eta 0:00:01\n",
      "   --------------------------------------  150.0/150.0 MB 18.2 MB/s eta 0:00:01\n",
      "   --------------------------------------  150.0/150.0 MB 18.2 MB/s eta 0:00:01\n",
      "   --------------------------------------  150.0/150.0 MB 18.2 MB/s eta 0:00:01\n",
      "   --------------------------------------  150.0/150.0 MB 18.2 MB/s eta 0:00:01\n",
      "   --------------------------------------  150.0/150.0 MB 18.2 MB/s eta 0:00:01\n",
      "   --------------------------------------  150.0/150.0 MB 18.2 MB/s eta 0:00:01\n",
      "   --------------------------------------  150.0/150.0 MB 18.2 MB/s eta 0:00:01\n",
      "   --------------------------------------  150.0/150.0 MB 18.2 MB/s eta 0:00:01\n",
      "   --------------------------------------  150.0/150.0 MB 18.2 MB/s eta 0:00:01\n",
      "   --------------------------------------  150.0/150.0 MB 18.2 MB/s eta 0:00:01\n",
      "   --------------------------------------  150.0/150.0 MB 18.2 MB/s eta 0:00:01\n",
      "   --------------------------------------  150.0/150.0 MB 18.2 MB/s eta 0:00:01\n",
      "   --------------------------------------  150.0/150.0 MB 18.2 MB/s eta 0:00:01\n",
      "   --------------------------------------  150.0/150.0 MB 18.2 MB/s eta 0:00:01\n",
      "   --------------------------------------  150.0/150.0 MB 18.2 MB/s eta 0:00:01\n",
      "   --------------------------------------  150.0/150.0 MB 18.2 MB/s eta 0:00:01\n",
      "   --------------------------------------  150.0/150.0 MB 18.2 MB/s eta 0:00:01\n",
      "   ---------------------------------------- 150.0/150.0 MB 7.0 MB/s eta 0:00:00\n",
      "Installing collected packages: xgboost\n",
      "Successfully installed xgboost-3.0.2\n"
     ]
    }
   ],
   "source": [
    "!pip install xgboost\n"
   ]
  },
  {
   "cell_type": "code",
   "execution_count": 28,
   "metadata": {
    "colab": {
     "base_uri": "https://localhost:8080/"
    },
    "id": "ImR9MwyIquT7",
    "outputId": "0704fbdf-c7cd-4900-9a3d-c61f4c1473c4"
   },
   "outputs": [
    {
     "ename": "ModuleNotFoundError",
     "evalue": "No module named 'xgboost'",
     "output_type": "error",
     "traceback": [
      "\u001b[1;31m---------------------------------------------------------------------------\u001b[0m",
      "\u001b[1;31mModuleNotFoundError\u001b[0m                       Traceback (most recent call last)",
      "Cell \u001b[1;32mIn[28], line 2\u001b[0m\n\u001b[0;32m      1\u001b[0m \u001b[38;5;66;03m#XGBoost\u001b[39;00m\n\u001b[1;32m----> 2\u001b[0m \u001b[38;5;28;01mfrom\u001b[39;00m\u001b[38;5;250m \u001b[39m\u001b[38;5;21;01mxgboost\u001b[39;00m\u001b[38;5;250m \u001b[39m\u001b[38;5;28;01mimport\u001b[39;00m XGBRegressor\n\u001b[0;32m      3\u001b[0m xgb_model \u001b[38;5;241m=\u001b[39m XGBRegressor(random_state\u001b[38;5;241m=\u001b[39m\u001b[38;5;241m42\u001b[39m)\n\u001b[0;32m      4\u001b[0m xgb_model\u001b[38;5;241m.\u001b[39mfit(X_train_scaled, y_train)\n",
      "\u001b[1;31mModuleNotFoundError\u001b[0m: No module named 'xgboost'"
     ]
    }
   ],
   "source": [
    "#XGBoost\n",
    "from xgboost import XGBRegressor\n",
    "xgb_model = XGBRegressor(random_state=42)\n",
    "xgb_model.fit(X_train_scaled, y_train)\n",
    "y_pred_xgb = xgb_model.predict(X_test_scaled)\n",
    "mse_xgb = mean_squared_error(y_test, y_pred_xgb)\n",
    "r2_xgb = r2_score(y_test, y_pred_xgb)\n",
    "print(\"XGBoost Results:\")\n",
    "print(f\"Mean Squared Error (MSE): {round(mse_xgb, 4)}\")\n",
    "print(f\"R² Score: {round(r2_xgb, 4)}\")"
   ]
  },
  {
   "cell_type": "code",
   "execution_count": 20,
   "metadata": {
    "colab": {
     "base_uri": "https://localhost:8080/",
     "height": 844
    },
    "id": "_j9ob6jEp5Rw",
    "outputId": "18c9d06c-e02d-4ad8-8966-3a16ab1bc577"
   },
   "outputs": [
    {
     "ename": "NameError",
     "evalue": "name 'mse_xgb' is not defined",
     "output_type": "error",
     "traceback": [
      "\u001b[1;31m---------------------------------------------------------------------------\u001b[0m",
      "\u001b[1;31mNameError\u001b[0m                                 Traceback (most recent call last)",
      "Cell \u001b[1;32mIn[20], line 4\u001b[0m\n\u001b[0;32m      1\u001b[0m \u001b[38;5;66;03m# Create a DataFrame for model comparison\u001b[39;00m\n\u001b[0;32m      2\u001b[0m results \u001b[38;5;241m=\u001b[39m pd\u001b[38;5;241m.\u001b[39mDataFrame({\n\u001b[0;32m      3\u001b[0m     \u001b[38;5;124m'\u001b[39m\u001b[38;5;124mModel\u001b[39m\u001b[38;5;124m'\u001b[39m: [\u001b[38;5;124m'\u001b[39m\u001b[38;5;124mLinear Regression\u001b[39m\u001b[38;5;124m'\u001b[39m, \u001b[38;5;124m'\u001b[39m\u001b[38;5;124mRandom Forest\u001b[39m\u001b[38;5;124m'\u001b[39m, \u001b[38;5;124m'\u001b[39m\u001b[38;5;124mANN\u001b[39m\u001b[38;5;124m'\u001b[39m, \u001b[38;5;124m'\u001b[39m\u001b[38;5;124mXGBoost\u001b[39m\u001b[38;5;124m'\u001b[39m],\n\u001b[1;32m----> 4\u001b[0m     \u001b[38;5;124m'\u001b[39m\u001b[38;5;124mMSE\u001b[39m\u001b[38;5;124m'\u001b[39m: [mse_lr, mse_rf, mse_ann,\u001b[43mmse_xgb\u001b[49m],\n\u001b[0;32m      5\u001b[0m     \u001b[38;5;124m'\u001b[39m\u001b[38;5;124mR² Score\u001b[39m\u001b[38;5;124m'\u001b[39m: [r2_lr, r2_rf, r2_ann,r2_xgb]\n\u001b[0;32m      6\u001b[0m })\n\u001b[0;32m      7\u001b[0m \u001b[38;5;28mprint\u001b[39m(\u001b[38;5;124m\"\u001b[39m\u001b[38;5;130;01m\\n\u001b[39;00m\u001b[38;5;124mModel Comparison:\u001b[39m\u001b[38;5;124m\"\u001b[39m)\n\u001b[0;32m      8\u001b[0m \u001b[38;5;28mprint\u001b[39m(results)\n",
      "\u001b[1;31mNameError\u001b[0m: name 'mse_xgb' is not defined"
     ]
    }
   ],
   "source": [
    "# Create a DataFrame for model comparison\n",
    "results = pd.DataFrame({\n",
    "    'Model': ['Linear Regression', 'Random Forest', 'ANN', 'XGBoost'],\n",
    "    'MSE': [mse_lr, mse_rf, mse_ann,mse_xgb],\n",
    "    'R² Score': [r2_lr, r2_rf, r2_ann,r2_xgb]\n",
    "})\n",
    "print(\"\\nModel Comparison:\")\n",
    "print(results)\n",
    "# Visualize model performance\n",
    "plt.figure(figsize=(10, 6))\n",
    "sns.barplot(x='Model', y='R² Score', data=results, palette=['#36A2EB', '#FF6384', '#FFCE56'])\n",
    "plt.title('Model Performance Comparison (R² Score)')\n",
    "plt.ylabel('R² Score')\n",
    "plt.xlabel('Model')\n",
    "plt.ylim(0, 1)\n",
    "plt.show()"
   ]
  },
  {
   "cell_type": "code",
   "execution_count": 22,
   "metadata": {
    "colab": {
     "base_uri": "https://localhost:8080/",
     "height": 669
    },
    "id": "tcQnUeGgudIE",
    "outputId": "c9f9fc2c-bace-4461-b45b-cf75d9263886"
   },
   "outputs": [
    {
     "ename": "NameError",
     "evalue": "name 'xgb_model' is not defined",
     "output_type": "error",
     "traceback": [
      "\u001b[1;31m---------------------------------------------------------------------------\u001b[0m",
      "\u001b[1;31mNameError\u001b[0m                                 Traceback (most recent call last)",
      "Cell \u001b[1;32mIn[22], line 9\u001b[0m\n\u001b[0;32m      2\u001b[0m rf_importance \u001b[38;5;241m=\u001b[39m pd\u001b[38;5;241m.\u001b[39mDataFrame({\n\u001b[0;32m      3\u001b[0m     \u001b[38;5;124m'\u001b[39m\u001b[38;5;124mFeature\u001b[39m\u001b[38;5;124m'\u001b[39m: X\u001b[38;5;241m.\u001b[39mcolumns,\n\u001b[0;32m      4\u001b[0m     \u001b[38;5;124m'\u001b[39m\u001b[38;5;124mImportance\u001b[39m\u001b[38;5;124m'\u001b[39m: rf_model\u001b[38;5;241m.\u001b[39mfeature_importances_\n\u001b[0;32m      5\u001b[0m })\u001b[38;5;241m.\u001b[39msort_values(by\u001b[38;5;241m=\u001b[39m\u001b[38;5;124m'\u001b[39m\u001b[38;5;124mImportance\u001b[39m\u001b[38;5;124m'\u001b[39m, ascending\u001b[38;5;241m=\u001b[39m\u001b[38;5;28;01mFalse\u001b[39;00m)\n\u001b[0;32m      6\u001b[0m \u001b[38;5;66;03m# Feature importance for XGBoost\u001b[39;00m\n\u001b[0;32m      7\u001b[0m xgb_importance \u001b[38;5;241m=\u001b[39m pd\u001b[38;5;241m.\u001b[39mDataFrame({\n\u001b[0;32m      8\u001b[0m     \u001b[38;5;124m'\u001b[39m\u001b[38;5;124mFeature\u001b[39m\u001b[38;5;124m'\u001b[39m: X\u001b[38;5;241m.\u001b[39mcolumns,\n\u001b[1;32m----> 9\u001b[0m     \u001b[38;5;124m'\u001b[39m\u001b[38;5;124mImportance\u001b[39m\u001b[38;5;124m'\u001b[39m: \u001b[43mxgb_model\u001b[49m\u001b[38;5;241m.\u001b[39mfeature_importances_\n\u001b[0;32m     10\u001b[0m })\u001b[38;5;241m.\u001b[39msort_values(by\u001b[38;5;241m=\u001b[39m\u001b[38;5;124m'\u001b[39m\u001b[38;5;124mImportance\u001b[39m\u001b[38;5;124m'\u001b[39m, ascending\u001b[38;5;241m=\u001b[39m\u001b[38;5;28;01mFalse\u001b[39;00m)\n\u001b[0;32m     11\u001b[0m \u001b[38;5;66;03m# Visualize feature importance\u001b[39;00m\n\u001b[0;32m     12\u001b[0m fig, (ax1, ax2) \u001b[38;5;241m=\u001b[39m plt\u001b[38;5;241m.\u001b[39msubplots(\u001b[38;5;241m1\u001b[39m, \u001b[38;5;241m2\u001b[39m, figsize\u001b[38;5;241m=\u001b[39m(\u001b[38;5;241m15\u001b[39m, \u001b[38;5;241m6\u001b[39m))\n",
      "\u001b[1;31mNameError\u001b[0m: name 'xgb_model' is not defined"
     ]
    }
   ],
   "source": [
    "# Feature importance for Random Forest\n",
    "rf_importance = pd.DataFrame({\n",
    "    'Feature': X.columns,\n",
    "    'Importance': rf_model.feature_importances_\n",
    "}).sort_values(by='Importance', ascending=False)\n",
    "# Feature importance for XGBoost\n",
    "xgb_importance = pd.DataFrame({\n",
    "    'Feature': X.columns,\n",
    "    'Importance': xgb_model.feature_importances_\n",
    "}).sort_values(by='Importance', ascending=False)\n",
    "# Visualize feature importance\n",
    "fig, (ax1, ax2) = plt.subplots(1, 2, figsize=(15, 6))\n",
    "sns.barplot(x='Importance', y='Feature', data=rf_importance, palette='viridis', ax=ax1)\n",
    "ax1.set_title('Feature Importance (Random Forest)')\n",
    "ax1.set_xlabel('Importance')\n",
    "ax1.set_ylabel('Feature')\n",
    "sns.barplot(x='Importance', y='Feature', data=xgb_importance, palette='magma', ax=ax2)\n",
    "ax2.set_title('Feature Importance (XGBoost)')\n",
    "ax2.set_xlabel('Importance')\n",
    "ax2.set_ylabel('Feature')\n",
    "plt.tight_layout()\n",
    "plt.show()"
   ]
  },
  {
   "cell_type": "code",
   "execution_count": 23,
   "metadata": {
    "colab": {
     "base_uri": "https://localhost:8080/"
    },
    "id": "kqwJ8yW8p_HE",
    "outputId": "90c39242-aa4c-4a2c-f1e4-b1f3ef7f8f56"
   },
   "outputs": [
    {
     "ename": "NameError",
     "evalue": "name 'xgb_model' is not defined",
     "output_type": "error",
     "traceback": [
      "\u001b[1;31m---------------------------------------------------------------------------\u001b[0m",
      "\u001b[1;31mNameError\u001b[0m                                 Traceback (most recent call last)",
      "Cell \u001b[1;32mIn[23], line 4\u001b[0m\n\u001b[0;32m      2\u001b[0m \u001b[38;5;28;01mimport\u001b[39;00m\u001b[38;5;250m \u001b[39m\u001b[38;5;21;01mpickle\u001b[39;00m\n\u001b[0;32m      3\u001b[0m pickle\u001b[38;5;241m.\u001b[39mdump(rf_model, \u001b[38;5;28mopen\u001b[39m(\u001b[38;5;124m'\u001b[39m\u001b[38;5;124mrf_model.pkl\u001b[39m\u001b[38;5;124m'\u001b[39m, \u001b[38;5;124m'\u001b[39m\u001b[38;5;124mwb\u001b[39m\u001b[38;5;124m'\u001b[39m))\n\u001b[1;32m----> 4\u001b[0m pickle\u001b[38;5;241m.\u001b[39mdump(\u001b[43mxgb_model\u001b[49m, \u001b[38;5;28mopen\u001b[39m(\u001b[38;5;124m'\u001b[39m\u001b[38;5;124mxgb_model.pkl\u001b[39m\u001b[38;5;124m'\u001b[39m, \u001b[38;5;124m'\u001b[39m\u001b[38;5;124mwb\u001b[39m\u001b[38;5;124m'\u001b[39m))\n\u001b[0;32m      5\u001b[0m pickle\u001b[38;5;241m.\u001b[39mdump(scaler, \u001b[38;5;28mopen\u001b[39m(\u001b[38;5;124m'\u001b[39m\u001b[38;5;124mscaler.pkl\u001b[39m\u001b[38;5;124m'\u001b[39m, \u001b[38;5;124m'\u001b[39m\u001b[38;5;124mwb\u001b[39m\u001b[38;5;124m'\u001b[39m))\n\u001b[0;32m      6\u001b[0m \u001b[38;5;28mprint\u001b[39m(\u001b[38;5;124m\"\u001b[39m\u001b[38;5;124mR² Scores:\u001b[39m\u001b[38;5;124m\"\u001b[39m)\n",
      "\u001b[1;31mNameError\u001b[0m: name 'xgb_model' is not defined"
     ]
    }
   ],
   "source": [
    "# Save Models for Deployment\n",
    "import pickle\n",
    "pickle.dump(rf_model, open('rf_model.pkl', 'wb'))\n",
    "pickle.dump(xgb_model, open('xgb_model.pkl', 'wb'))\n",
    "pickle.dump(scaler, open('scaler.pkl', 'wb'))\n",
    "print(\"R² Scores:\")\n",
    "print(f\"Random Forest: {r2_rf:.4f}\")\n",
    "print(f\"XGBoost: {r2_xgb:.4f}\")\n",
    "print(\"Training features:\", X.columns.tolist())\n",
    "print(\"Files saved: rf_model.pkl xgb_model.pkl scaler.pkl\")"
   ]
  },
  {
   "cell_type": "code",
   "execution_count": 24,
   "metadata": {
    "colab": {
     "base_uri": "https://localhost:8080/"
    },
    "id": "sWQE3pjUqB8S",
    "outputId": "484c2f2d-0502-42b4-9a40-0b795b7bc438"
   },
   "outputs": [
    {
     "name": "stdout",
     "output_type": "stream",
     "text": [
      "Random Forest Best Parameters: {'max_depth': 10, 'n_estimators': 200}\n",
      "Random Forest Best R² Score: 0.7788\n"
     ]
    },
    {
     "ename": "NameError",
     "evalue": "name 'XGBRegressor' is not defined",
     "output_type": "error",
     "traceback": [
      "\u001b[1;31m---------------------------------------------------------------------------\u001b[0m",
      "\u001b[1;31mNameError\u001b[0m                                 Traceback (most recent call last)",
      "Cell \u001b[1;32mIn[24], line 10\u001b[0m\n\u001b[0;32m      7\u001b[0m \u001b[38;5;28mprint\u001b[39m(\u001b[38;5;124mf\u001b[39m\u001b[38;5;124m\"\u001b[39m\u001b[38;5;124mRandom Forest Best R² Score: \u001b[39m\u001b[38;5;132;01m{\u001b[39;00mgrid_search_rf\u001b[38;5;241m.\u001b[39mbest_score_\u001b[38;5;132;01m:\u001b[39;00m\u001b[38;5;124m.4f\u001b[39m\u001b[38;5;132;01m}\u001b[39;00m\u001b[38;5;124m\"\u001b[39m)\n\u001b[0;32m      9\u001b[0m param_grid_xgb \u001b[38;5;241m=\u001b[39m {\u001b[38;5;124m'\u001b[39m\u001b[38;5;124mn_estimators\u001b[39m\u001b[38;5;124m'\u001b[39m: [\u001b[38;5;241m50\u001b[39m, \u001b[38;5;241m100\u001b[39m, \u001b[38;5;241m200\u001b[39m], \u001b[38;5;124m'\u001b[39m\u001b[38;5;124mmax_depth\u001b[39m\u001b[38;5;124m'\u001b[39m: [\u001b[38;5;241m3\u001b[39m, \u001b[38;5;241m5\u001b[39m, \u001b[38;5;241m7\u001b[39m], \u001b[38;5;124m'\u001b[39m\u001b[38;5;124mlearning_rate\u001b[39m\u001b[38;5;124m'\u001b[39m: [\u001b[38;5;241m0.01\u001b[39m, \u001b[38;5;241m0.1\u001b[39m, \u001b[38;5;241m0.3\u001b[39m]}\n\u001b[1;32m---> 10\u001b[0m grid_search_xgb \u001b[38;5;241m=\u001b[39m GridSearchCV(\u001b[43mXGBRegressor\u001b[49m(random_state\u001b[38;5;241m=\u001b[39m\u001b[38;5;241m42\u001b[39m), param_grid_xgb, cv\u001b[38;5;241m=\u001b[39m\u001b[38;5;241m5\u001b[39m, scoring\u001b[38;5;241m=\u001b[39m\u001b[38;5;124m'\u001b[39m\u001b[38;5;124mr2\u001b[39m\u001b[38;5;124m'\u001b[39m)\n\u001b[0;32m     11\u001b[0m grid_search_xgb\u001b[38;5;241m.\u001b[39mfit(X_train_scaled, y_train)\n\u001b[0;32m     12\u001b[0m \u001b[38;5;28mprint\u001b[39m(\u001b[38;5;124mf\u001b[39m\u001b[38;5;124m\"\u001b[39m\u001b[38;5;124mXGBoost Best Parameters: \u001b[39m\u001b[38;5;132;01m{\u001b[39;00mgrid_search_xgb\u001b[38;5;241m.\u001b[39mbest_params_\u001b[38;5;132;01m}\u001b[39;00m\u001b[38;5;124m\"\u001b[39m)\n",
      "\u001b[1;31mNameError\u001b[0m: name 'XGBRegressor' is not defined"
     ]
    }
   ],
   "source": [
    "#hyperparameter tuning\n",
    "from sklearn.model_selection import GridSearchCV\n",
    "param_grid_rf = {'n_estimators': [50, 100, 200], 'max_depth': [None, 10, 20]}\n",
    "grid_search_rf = GridSearchCV(RandomForestRegressor(random_state=42), param_grid_rf, cv=5, scoring='r2')\n",
    "grid_search_rf.fit(X_train_scaled, y_train)\n",
    "print(f\"Random Forest Best Parameters: {grid_search_rf.best_params_}\")\n",
    "print(f\"Random Forest Best R² Score: {grid_search_rf.best_score_:.4f}\")\n",
    "\n",
    "param_grid_xgb = {'n_estimators': [50, 100, 200], 'max_depth': [3, 5, 7], 'learning_rate': [0.01, 0.1, 0.3]}\n",
    "grid_search_xgb = GridSearchCV(XGBRegressor(random_state=42), param_grid_xgb, cv=5, scoring='r2')\n",
    "grid_search_xgb.fit(X_train_scaled, y_train)\n",
    "print(f\"XGBoost Best Parameters: {grid_search_xgb.best_params_}\")\n",
    "print(f\"XGBoost Best R² Score: {grid_search_xgb.best_score_:.4f}\")"
   ]
  },
  {
   "cell_type": "code",
   "execution_count": null,
   "metadata": {
    "colab": {
     "base_uri": "https://localhost:8080/"
    },
    "id": "ub3zVQ8Fv9iP",
    "outputId": "a0121589-4ff3-4b8f-aba1-21de9949d8e1"
   },
   "outputs": [],
   "source": [
    "#cross validation\n",
    "from sklearn.model_selection import cross_val_score\n",
    "for model, name in [ (rf_model, 'Random Forest'), (xgb_model, 'XGBoost')]:\n",
    "    cv_scores = cross_val_score(model, X_train_scaled, y_train, cv=5, scoring='r2')\n",
    "    print(f\"{name} CV R² Scores: {cv_scores}\")\n",
    "    print(f\"{name} Average CV R² Score: {np.mean(cv_scores):.4f}\")"
   ]
  },
  {
   "cell_type": "code",
   "execution_count": null,
   "metadata": {
    "colab": {
     "base_uri": "https://localhost:8080/",
     "height": 492
    },
    "id": "ll9IRsWmqQ5Q",
    "outputId": "c8a59533-44a9-4cfd-e945-7ca9365b7ba6"
   },
   "outputs": [],
   "source": [
    "#shap\n",
    "import shap\n",
    "# Initialize SHAP explainer\n",
    "explainer = shap.TreeExplainer(xgb_model)\n",
    "shap_values = explainer.shap_values(X_test_scaled)\n",
    "# Set random seed for SHAP explicitly\n",
    "np.random.default_rng(42)  # Replaces np.random.seed(42)\n",
    "# Generate SHAP summary plot\n",
    "shap.summary_plot(shap_values, X_test, feature_names=X.columns)\n",
    "\n"
   ]
  },
  {
   "cell_type": "code",
   "execution_count": 258,
   "metadata": {
    "colab": {
     "base_uri": "https://localhost:8080/"
    },
    "id": "3OmluufDTdoA",
    "outputId": "af10dd84-1a9a-4ac9-eb5d-be8c0faa1b22"
   },
   "outputs": [
    {
     "name": "stdout",
     "output_type": "stream",
     "text": [
      "Requirement already satisfied: streamlit in /usr/local/lib/python3.11/dist-packages (1.45.1)\n",
      "Requirement already satisfied: altair<6,>=4.0 in /usr/local/lib/python3.11/dist-packages (from streamlit) (5.5.0)\n",
      "Requirement already satisfied: blinker<2,>=1.5.0 in /usr/local/lib/python3.11/dist-packages (from streamlit) (1.9.0)\n",
      "Requirement already satisfied: cachetools<6,>=4.0 in /usr/local/lib/python3.11/dist-packages (from streamlit) (5.5.2)\n",
      "Requirement already satisfied: click<9,>=7.0 in /usr/local/lib/python3.11/dist-packages (from streamlit) (8.2.1)\n",
      "Requirement already satisfied: numpy<3,>=1.23 in /usr/local/lib/python3.11/dist-packages (from streamlit) (2.0.2)\n",
      "Requirement already satisfied: packaging<25,>=20 in /usr/local/lib/python3.11/dist-packages (from streamlit) (24.2)\n",
      "Requirement already satisfied: pandas<3,>=1.4.0 in /usr/local/lib/python3.11/dist-packages (from streamlit) (2.2.2)\n",
      "Requirement already satisfied: pillow<12,>=7.1.0 in /usr/local/lib/python3.11/dist-packages (from streamlit) (11.2.1)\n",
      "Requirement already satisfied: protobuf<7,>=3.20 in /usr/local/lib/python3.11/dist-packages (from streamlit) (5.29.5)\n",
      "Requirement already satisfied: pyarrow>=7.0 in /usr/local/lib/python3.11/dist-packages (from streamlit) (18.1.0)\n",
      "Requirement already satisfied: requests<3,>=2.27 in /usr/local/lib/python3.11/dist-packages (from streamlit) (2.32.3)\n",
      "Requirement already satisfied: tenacity<10,>=8.1.0 in /usr/local/lib/python3.11/dist-packages (from streamlit) (9.1.2)\n",
      "Requirement already satisfied: toml<2,>=0.10.1 in /usr/local/lib/python3.11/dist-packages (from streamlit) (0.10.2)\n",
      "Requirement already satisfied: typing-extensions<5,>=4.4.0 in /usr/local/lib/python3.11/dist-packages (from streamlit) (4.13.2)\n",
      "Requirement already satisfied: watchdog<7,>=2.1.5 in /usr/local/lib/python3.11/dist-packages (from streamlit) (6.0.0)\n",
      "Requirement already satisfied: gitpython!=3.1.19,<4,>=3.0.7 in /usr/local/lib/python3.11/dist-packages (from streamlit) (3.1.44)\n",
      "Requirement already satisfied: pydeck<1,>=0.8.0b4 in /usr/local/lib/python3.11/dist-packages (from streamlit) (0.9.1)\n",
      "Requirement already satisfied: tornado<7,>=6.0.3 in /usr/local/lib/python3.11/dist-packages (from streamlit) (6.4.2)\n",
      "Requirement already satisfied: jinja2 in /usr/local/lib/python3.11/dist-packages (from altair<6,>=4.0->streamlit) (3.1.6)\n",
      "Requirement already satisfied: jsonschema>=3.0 in /usr/local/lib/python3.11/dist-packages (from altair<6,>=4.0->streamlit) (4.24.0)\n",
      "Requirement already satisfied: narwhals>=1.14.2 in /usr/local/lib/python3.11/dist-packages (from altair<6,>=4.0->streamlit) (1.41.0)\n",
      "Requirement already satisfied: gitdb<5,>=4.0.1 in /usr/local/lib/python3.11/dist-packages (from gitpython!=3.1.19,<4,>=3.0.7->streamlit) (4.0.12)\n",
      "Requirement already satisfied: python-dateutil>=2.8.2 in /usr/local/lib/python3.11/dist-packages (from pandas<3,>=1.4.0->streamlit) (2.9.0.post0)\n",
      "Requirement already satisfied: pytz>=2020.1 in /usr/local/lib/python3.11/dist-packages (from pandas<3,>=1.4.0->streamlit) (2025.2)\n",
      "Requirement already satisfied: tzdata>=2022.7 in /usr/local/lib/python3.11/dist-packages (from pandas<3,>=1.4.0->streamlit) (2025.2)\n",
      "Requirement already satisfied: charset-normalizer<4,>=2 in /usr/local/lib/python3.11/dist-packages (from requests<3,>=2.27->streamlit) (3.4.2)\n",
      "Requirement already satisfied: idna<4,>=2.5 in /usr/local/lib/python3.11/dist-packages (from requests<3,>=2.27->streamlit) (3.10)\n",
      "Requirement already satisfied: urllib3<3,>=1.21.1 in /usr/local/lib/python3.11/dist-packages (from requests<3,>=2.27->streamlit) (2.4.0)\n",
      "Requirement already satisfied: certifi>=2017.4.17 in /usr/local/lib/python3.11/dist-packages (from requests<3,>=2.27->streamlit) (2025.4.26)\n",
      "Requirement already satisfied: smmap<6,>=3.0.1 in /usr/local/lib/python3.11/dist-packages (from gitdb<5,>=4.0.1->gitpython!=3.1.19,<4,>=3.0.7->streamlit) (5.0.2)\n",
      "Requirement already satisfied: MarkupSafe>=2.0 in /usr/local/lib/python3.11/dist-packages (from jinja2->altair<6,>=4.0->streamlit) (3.0.2)\n",
      "Requirement already satisfied: attrs>=22.2.0 in /usr/local/lib/python3.11/dist-packages (from jsonschema>=3.0->altair<6,>=4.0->streamlit) (25.3.0)\n",
      "Requirement already satisfied: jsonschema-specifications>=2023.03.6 in /usr/local/lib/python3.11/dist-packages (from jsonschema>=3.0->altair<6,>=4.0->streamlit) (2025.4.1)\n",
      "Requirement already satisfied: referencing>=0.28.4 in /usr/local/lib/python3.11/dist-packages (from jsonschema>=3.0->altair<6,>=4.0->streamlit) (0.36.2)\n",
      "Requirement already satisfied: rpds-py>=0.7.1 in /usr/local/lib/python3.11/dist-packages (from jsonschema>=3.0->altair<6,>=4.0->streamlit) (0.25.1)\n",
      "Requirement already satisfied: six>=1.5 in /usr/local/lib/python3.11/dist-packages (from python-dateutil>=2.8.2->pandas<3,>=1.4.0->streamlit) (1.17.0)\n"
     ]
    }
   ],
   "source": [
    "!pip install streamlit\n"
   ]
  },
  {
   "cell_type": "code",
   "execution_count": 258,
   "metadata": {
    "id": "3j2Rpw6V6bES"
   },
   "outputs": [],
   "source": []
  },
  {
   "cell_type": "code",
   "execution_count": 259,
   "metadata": {
    "colab": {
     "base_uri": "https://localhost:8080/"
    },
    "id": "ptm5U74K6fuF",
    "outputId": "625bdd84-97fc-4e5b-80bc-ade56fd16b72"
   },
   "outputs": [
    {
     "name": "stdout",
     "output_type": "stream",
     "text": [
      "Overwriting app.py\n"
     ]
    }
   ],
   "source": [
    "%%writefile app.py\n",
    "import streamlit as st\n",
    "import pandas as pd\n",
    "import pickle\n",
    "import numpy as np\n",
    "import os\n",
    "\n",
    "st.title(\"Graduate Admission Prediction\")\n",
    "\n",
    "# Check for required files\n",
    "required_files = ['rf_model.pkl', 'xgb_model.pkl', 'scaler.pkl']\n",
    "for file in required_files:\n",
    "    if not os.path.exists(file):\n",
    "        st.error(f\"Required file {file} not found. Please ensure all model and scaler files are in the working directory.\")\n",
    "        st.stop()\n",
    "\n",
    "# Load models and scaler\n",
    "try:\n",
    "    rf_model = pickle.load(open('rf_model.pkl', 'rb'))\n",
    "    xgb_model = pickle.load(open('xgb_model.pkl', 'rb'))\n",
    "    scaler = pickle.load(open('scaler.pkl', 'rb'))\n",
    "except FileNotFoundError:\n",
    "    st.error(\"Model or scaler file not found. Please upload required files.\")\n",
    "    st.stop()\n",
    "except Exception as e:\n",
    "    st.error(f\"Error loading models: {str(e)}\")\n",
    "    st.stop()\n",
    "\n",
    "# Define feature names\n",
    "feature_names = ['GRE Score', 'TOEFL Score', 'University Rating', 'SOP', 'LOR', 'CGPA', 'Research']\n",
    "\n",
    "# Input fields\n",
    "gre = st.number_input(\"GRE Score (260-340)\", 260, 340, value=300)\n",
    "toefl = st.number_input(\"TOEFL Score (0-120)\", 0, 120, value=100)\n",
    "univ_rating = st.number_input(\"University Rating (1-5)\", 1, 5, value=3)\n",
    "sop = st.number_input(\"SOP Strength (1-5)\", 1.0, 5.0, value=3.0)\n",
    "lor = st.number_input(\"LOR Strength (1-5)\", 1.0, 5.0, value=3.0)\n",
    "cgpa = st.number_input(\"CGPA (6-10)\", 6.0, 10.0, value=8.0)\n",
    "research = st.selectbox(\"Research Experience\", [0, 1], index=0)\n",
    "\n",
    "if st.button(\"Predict\"):\n",
    "    try:\n",
    "        user_input = pd.DataFrame([[gre, toefl, univ_rating, sop, lor, cgpa, research]],\n",
    "                                 columns=feature_names)\n",
    "        user_scaled = scaler.transform(user_input)\n",
    "\n",
    "        # Get predictions from Random Forest and XGBoost\n",
    "        rf_pred = rf_model.predict(user_scaled)[0]\n",
    "        xgb_pred = xgb_model.predict(user_scaled)[0]\n",
    "\n",
    "        # Compute mean prediction\n",
    "        mean_pred = np.mean([rf_pred, xgb_pred])\n",
    "\n",
    "        # Ensure prediction is within valid range\n",
    "        mean_pred = np.clip(mean_pred, 0, 1)\n",
    "\n",
    "        # Display prediction\n",
    "        st.write(f\"Predicted Chance of Admission: {round(mean_pred * 100, 2)}%\")\n",
    "    except Exception as e:\n",
    "        st.error(f\"Error in prediction: {str(e)}\")"
   ]
  },
  {
   "cell_type": "code",
   "execution_count": 260,
   "metadata": {
    "colab": {
     "base_uri": "https://localhost:8080/"
    },
    "id": "pHGco0xK7JIQ",
    "outputId": "ac930e4e-50d9-42d4-cb9d-4a8e614b44b9"
   },
   "outputs": [
    {
     "name": "stdout",
     "output_type": "stream",
     "text": [
      "Admission_Predict_Ver1.1.csv  lr_model.pkl\trf_model.pkl\n",
      "ann_model.h5\t\t      README.md\t\tscaler.pkl\n",
      "app.py\t\t\t      requirements.txt\txgb_model.pkl\n"
     ]
    }
   ],
   "source": [
    "!ls"
   ]
  },
  {
   "cell_type": "code",
   "execution_count": 261,
   "metadata": {
    "colab": {
     "base_uri": "https://localhost:8080/"
    },
    "id": "C4LTTh2BDAki",
    "outputId": "dcd61e27-f7c6-4cc5-8bba-011ea6a2d83f"
   },
   "outputs": [
    {
     "name": "stdout",
     "output_type": "stream",
     "text": [
      "Requirement already satisfied: pyngrok in /usr/local/lib/python3.11/dist-packages (7.2.9)\n",
      "Requirement already satisfied: PyYAML>=5.1 in /usr/local/lib/python3.11/dist-packages (from pyngrok) (6.0.2)\n"
     ]
    }
   ],
   "source": [
    "!pip install pyngrok"
   ]
  },
  {
   "cell_type": "code",
   "execution_count": 261,
   "metadata": {
    "id": "8v_k28HWvyt8"
   },
   "outputs": [],
   "source": []
  },
  {
   "cell_type": "code",
   "execution_count": 262,
   "metadata": {
    "id": "yigL2SOLqEXW"
   },
   "outputs": [],
   "source": [
    "from pyngrok import ngrok\n",
    "ngrok.kill()\n"
   ]
  },
  {
   "cell_type": "code",
   "execution_count": null,
   "metadata": {
    "colab": {
     "base_uri": "https://localhost:8080/"
    },
    "id": "5E8T-EEl7LR8",
    "outputId": "2a790ff1-6df0-43e7-b996-995db28dfeed"
   },
   "outputs": [
    {
     "name": "stdout",
     "output_type": "stream",
     "text": [
      "Starting Streamlit app...\n",
      "Starting ngrok tunnel...\n",
      "Streamlit app is live at: NgrokTunnel: \"https://f6d0-35-232-254-36.ngrok-free.app\" -> \"http://localhost:8501\"\n"
     ]
    }
   ],
   "source": [
    "from pyngrok import ngrok\n",
    "import subprocess\n",
    "import time\n",
    "import os\n",
    "\n",
    "# OPTIONAL: Better to load auth token from env\n",
    "# os.environ[\"NGROK_AUTH_TOKEN\"] = \"your_token_here\"\n",
    "ngrok.set_auth_token(\"2y0ZkY48TtNqL0k22tCJHbYApt0_6MA4KFNcxNRdAxKhhHBYi\")\n",
    "\n",
    "# Launch Streamlit app\n",
    "print(\"Starting Streamlit app...\")\n",
    "streamlit_process = subprocess.Popen(\n",
    "    [\"streamlit\", \"run\", \"app.py\", \"--server.port\", \"8501\"],\n",
    "    stdout=subprocess.DEVNULL, stderr=subprocess.STDOUT\n",
    ")\n",
    "\n",
    "# Give Streamlit time to spin up\n",
    "time.sleep(5)\n",
    "\n",
    "# Create ngrok tunnel\n",
    "print(\"Starting ngrok tunnel...\")\n",
    "public_url = ngrok.connect(8501)\n",
    "print(f\"Streamlit app is live at: {public_url}\")\n",
    "\n",
    "# Optional: keep alive until manually stopped\n",
    "try:\n",
    "    while True:\n",
    "        time.sleep(1)\n",
    "except KeyboardInterrupt:\n",
    "    print(\"Shutting down...\")\n",
    "    streamlit_process.terminate()\n",
    "    ngrok.kill()\n"
   ]
  },
  {
   "cell_type": "code",
   "execution_count": null,
   "metadata": {
    "id": "eLdwqGFG7NXX"
   },
   "outputs": [],
   "source": []
  },
  {
   "cell_type": "code",
   "execution_count": null,
   "metadata": {
    "id": "B7mtn5T_LSMw"
   },
   "outputs": [],
   "source": [
    "\n"
   ]
  },
  {
   "cell_type": "code",
   "execution_count": null,
   "metadata": {
    "id": "K_9v9tn-rI-V"
   },
   "outputs": [],
   "source": [
    "\n",
    "\n"
   ]
  },
  {
   "cell_type": "code",
   "execution_count": null,
   "metadata": {
    "id": "g9g8Tpxz6xun"
   },
   "outputs": [],
   "source": []
  },
  {
   "cell_type": "code",
   "execution_count": null,
   "metadata": {
    "id": "QHA5_4AT7iDD"
   },
   "outputs": [],
   "source": []
  },
  {
   "cell_type": "code",
   "execution_count": null,
   "metadata": {
    "id": "Ue-b6Veq7sME"
   },
   "outputs": [],
   "source": []
  },
  {
   "cell_type": "code",
   "execution_count": null,
   "metadata": {
    "id": "BneRPebY8FOZ"
   },
   "outputs": [],
   "source": []
  },
  {
   "cell_type": "code",
   "execution_count": null,
   "metadata": {
    "id": "po2ZKslZ7ult"
   },
   "outputs": [],
   "source": []
  }
 ],
 "metadata": {
  "colab": {
   "provenance": []
  },
  "kernelspec": {
   "display_name": "Python (tf214_env)",
   "language": "python",
   "name": "tf214_env"
  },
  "language_info": {
   "codemirror_mode": {
    "name": "ipython",
    "version": 3
   },
   "file_extension": ".py",
   "mimetype": "text/x-python",
   "name": "python",
   "nbconvert_exporter": "python",
   "pygments_lexer": "ipython3",
   "version": "3.10.18"
  }
 },
 "nbformat": 4,
 "nbformat_minor": 4
}
